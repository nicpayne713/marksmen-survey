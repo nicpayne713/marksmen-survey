{
 "cells": [
  {
   "source": [
    "# Marksmen 2021 Survey Results"
   ],
   "cell_type": "markdown",
   "metadata": {}
  },
  {
   "source": [
    "## Imports"
   ],
   "cell_type": "markdown",
   "metadata": {}
  },
  {
   "cell_type": "code",
   "execution_count": null,
   "metadata": {},
   "outputs": [],
   "source": [
    "import pandas as pd\n",
    "import plotly.express as px"
   ]
  },
  {
   "source": [
    "## Read in data and rename columns"
   ],
   "cell_type": "markdown",
   "metadata": {}
  },
  {
   "cell_type": "code",
   "execution_count": null,
   "metadata": {},
   "outputs": [],
   "source": [
    "df = pd.reada_csv('../data/sample-results.csv')"
   ]
  },
  {
   "cell_type": "code",
   "execution_count": null,
   "metadata": {},
   "outputs": [],
   "source": [
    "cols = {\n",
    "    \"Timestamp\": 'ts',\n",
    "    \"Are you a regular attender of any ministry outside of Sunday morning worship?\": 'ministry-reg',\n",
    "    \"Are you a regular attender/member of New Life?\": \"nl-reg\",\n",
    "    \"Have you been a regular attender of the 6 AM Wednesday morning Marksmen meeting in Morton prior to the Covid-19 pandemic?\": \"wed-reg\",\n",
    "    'If you have been a regular attender of the 6AM Wednesday morning Marksmen meeting - What is the most valuable part? (Please pick 1)': \"wed-reg-val\",\n",
    "    'If you have been a regular attender of the 6AM Wednesday morning Marksmen meeting - Is Wednesday morning at 6 AM inconvenient? ': \"wed-reg-inconvenient\",\n",
    "    'If you have been a regular attender of the 6AM Wednesday morning Marksmen meeting and this time is inconvenient, what day and time would be the most convenient for you? (e.g. Mondays at 7 PM)': \"wed-reg-convenient-times\",\n",
    "    'If you have not been a regular attender of the 6AM Wednesday morning Marksmen meetings - What is the most applicable reason you have not regularly attended? (please pick 1)': \"feat-not-wed-reg\",\n",
    "    'Did you regularly attend the 9AM Saturday in-person Marksmen meetings in Washington in 2020?': \"sat-reg\",\n",
    "       'If you did regularly attend the 9AM Saturday in-person Marksmen meetings - what was the most valuable part?': \"sat-reg-val\",\n",
    "       'Is Saturday Morning at 9AM an inconvenient time for you?': \"sat-reg-inconvenient\",\n",
    "       'If Saturday morning at 9AM is inconvenient then what day/time would be convenient for you to attend Marksmen? (e.g. Sundays at 8PM)': \"sat-reg-convenient-times\",\n",
    "       'If you did not regularly attend the Saturday morning in-person meetings in Washington - what is the most applicable reason you did not regularly attend? (please pick 1)': \"feat-not-sat-reg\",\n",
    "       'Have you been regularly attending the 8PM Thursday night Marksmen meetings over Zoom?': \"zoom-reg\",\n",
    "       'If you have been regularly attending the 8PM Thursday night meetings then what is the most valuable part?': \"zoom-reg-val\",\n",
    "       'Is Thursday night at 8PM over Zoom inconvenient?': \"zoom-reg-inconvenient\",\n",
    "       'If Thursday night at 8PM over Zoom is inconvenient then what day/time would be convenient for you to meet over Zoom? (e.g. Saturdays at 7PM)': \"zoom-reg-convenient-times\",\n",
    "       'If you have not been regularly attending the Thursday night Zoom meetings then what is the most applicable reason you have not been attending?': \"feat-not-zoom-reg\",\n",
    "       'If any of your responses above were related to not finding the Marksmen ministry valuable then please pick the most applicable option': \"feat-not-reg\",\n",
    "       'If you answered \"I have attended but have not found the Marksmen ministry valuable\" please describe what you would find valuable in the Marksmen ministry (eg. A change in teachers, series, topics, meeting times, meeting locations, etc.). Please be as specific as you can': \"feat-exp-not-val\",\n",
    "       'I have attended any Marksmen meetings where Kirk Bode was the teacher': \"exp-kirk-teach\",\n",
    "       \"Kirk's teaching style is (pick 1)...\": \"kirk-teach-style\",\n",
    "       \"If you find Kirk's teaching difficult to follow or not valuable would you please comment what changes you think would be valuable for Kirk to make as a teacher?\": \"kirk-teach-change\",\n",
    "       'I have attended any Marksmen meetings where Nic Payne was the teacher': \"exp-nic-teach\",\n",
    "       \"Nic's teaching style is (pick 1)...\": \"nic-teach-style\",\n",
    "       \"If you find Nic's teaching difficult to follow or not valuable would you please comment what changes you think would be valuable for Nic to make as a teacher?\": \"nic-teach-change\",\n",
    "       'What is your family status?': \"family-status\", 'What is your age bracket?': \"age\",\n",
    "       \"One of Marksmen's goals is to raise up future teachers within our church. If you think someone would be a good teacher please write their name here\": \"nominations\",\n",
    "}"
   ]
  },
  {
   "cell_type": "code",
   "execution_count": null,
   "metadata": {},
   "outputs": [],
   "source": [
    "df.rename(columns=cols, inplace=True)"
   ]
  },
  {
   "cell_type": "code",
   "execution_count": null,
   "metadata": {},
   "outputs": [],
   "source": [
    "df.columns"
   ]
  },
  {
   "cell_type": "code",
   "execution_count": null,
   "metadata": {},
   "outputs": [],
   "source": [
    "df.head()"
   ]
  },
  {
   "source": [
    "## Explore results by age"
   ],
   "cell_type": "markdown",
   "metadata": {}
  },
  {
   "cell_type": "code",
   "execution_count": null,
   "metadata": {},
   "outputs": [],
   "source": []
  },
  {
   "cell_type": "code",
   "execution_count": null,
   "metadata": {},
   "outputs": [],
   "source": [
    "px.histogram(df, facet_row='age', x=['wed-reg', 'sat-reg', 'zoom-reg'], title='Attendance by age and offering',\n",
    "labels='Offering' )"
   ]
  },
  {
   "source": [
    "## Explore reasons why men do not regularly attend"
   ],
   "cell_type": "markdown",
   "metadata": {}
  },
  {
   "source": [
    "### Not a regular Wednesday attender"
   ],
   "cell_type": "markdown",
   "metadata": {}
  },
  {
   "cell_type": "code",
   "execution_count": null,
   "metadata": {},
   "outputs": [],
   "source": [
    "df[(~df['feat-not-wed-reg'].isna())\n",
    "    ][['feat-not-wed-reg', 'feat-exp-not-val']]"
   ]
  },
  {
   "source": [
    "### Not a regular Saturday attender"
   ],
   "cell_type": "markdown",
   "metadata": {}
  },
  {
   "cell_type": "code",
   "execution_count": null,
   "metadata": {},
   "outputs": [],
   "source": [
    "df[(~df['feat-not-sat-reg'].isna())\n",
    "    ][['feat-not-sat-reg', 'feat-exp-not-val']]"
   ]
  },
  {
   "source": [
    "### Not a regular Zoom attender"
   ],
   "cell_type": "markdown",
   "metadata": {}
  },
  {
   "cell_type": "code",
   "execution_count": null,
   "metadata": {},
   "outputs": [],
   "source": [
    "df[(~df['feat-not-zoom-reg'].isna())\n",
    "    ][['feat-not-zoom-reg', 'feat-exp-not-val']]"
   ]
  },
  {
   "source": [
    "### By age - Explanation of what is not valuable"
   ],
   "cell_type": "markdown",
   "metadata": {}
  },
  {
   "cell_type": "code",
   "execution_count": null,
   "metadata": {},
   "outputs": [],
   "source": [
    "df.groupby('age')['feat-exp-not-val'].unique().reset_index()"
   ]
  },
  {
   "cell_type": "code",
   "execution_count": null,
   "metadata": {},
   "outputs": [],
   "source": []
  }
 ],
 "metadata": {
  "kernelspec": {
   "name": "python3",
   "display_name": "Python 3.8.5 64-bit ('marksmen-survey': conda)",
   "metadata": {
    "interpreter": {
     "hash": "38787d841eb24fbf2e64d79d41befe03350e5f47d0b3249ae319dca9abaad7e4"
    }
   }
  },
  "language_info": {
   "codemirror_mode": {
    "name": "ipython",
    "version": 3
   },
   "file_extension": ".py",
   "mimetype": "text/x-python",
   "name": "python",
   "nbconvert_exporter": "python",
   "pygments_lexer": "ipython3",
   "version": "3.8.5-final"
  }
 },
 "nbformat": 4,
 "nbformat_minor": 2
}